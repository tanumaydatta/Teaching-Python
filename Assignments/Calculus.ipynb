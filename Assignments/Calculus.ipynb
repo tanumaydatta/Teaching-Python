{
  "cells": [
    {
      "cell_type": "markdown",
      "metadata": {
        "id": "view-in-github",
        "colab_type": "text"
      },
      "source": [
        "<a href=\"https://colab.research.google.com/github/tanumaydatta/Teaching-Python/blob/main/Assignments/Calculus.ipynb\" target=\"_parent\"><img src=\"https://colab.research.google.com/assets/colab-badge.svg\" alt=\"Open In Colab\"/></a>"
      ]
    },
    {
      "cell_type": "markdown",
      "metadata": {
        "id": "oNbUmibwMOTb"
      },
      "source": [
        "## Part 2: Calculus - Gradient Descent for Linear Regression  \n",
        "\n",
        "### Problem Statement\n",
        "Implement a basic gradient descent algorithm to solve a linear regression problem. You will need to:\n",
        "\n",
        "1. Generate synthetic data (Already done)\n",
        "2. Implement the cost function\n",
        "3. Implement the gradient descent algorithm\n",
        "4. Visualize the convergence of the algorithm\n",
        "\n",
        "<div>\n",
        "  <a href=\"https://colab.research.google.com/github/emharsha1812/CCE_Assignment/blob/main/Assignments/Calculus.ipynb\" target=\"_parent\">\n",
        "    <img src=\"https://colab.research.google.com/assets/colab-badge.svg\" alt=\"Open In Colab\"/>\n",
        "  </a>\n",
        "</div>"
      ]
    },
    {
      "cell_type": "markdown",
      "metadata": {
        "id": "kYMugkisMOTd"
      },
      "source": [
        "### Task 1.0 Generating Synthetic Data (Already done)\n"
      ]
    },
    {
      "cell_type": "code",
      "execution_count": null,
      "metadata": {
        "id": "F7yDov4HMOTe",
        "outputId": "fe1bcd55-449d-40dd-8d92-04f2f8a1a10d"
      },
      "outputs": [
        {
          "data": {
            "image/png": "[encoded data removed]",
            "text/plain": [
              "<Figure size 640x480 with 1 Axes>"
            ]
          },
          "metadata": {},
          "output_type": "display_data"
        }
      ],
      "source": [
        "#We've provided the code to generate sample data for linear regression. You do NOT need to modify this section.\n",
        "\n",
        "import numpy as np\n",
        "import matplotlib.pyplot as plt\n",
        "\n",
        "## Task 1: Implement Gradient Descent for Linear Regression\n",
        "\n",
        "### 1.1 Generate Sample Data\n",
        "\n",
        "def generate_data(n_samples=100, noise=0.5):\n",
        "    np.random.seed(42)\n",
        "    X = np.linspace(0, 10, n_samples).reshape(-1, 1)\n",
        "    y = 2 * X + 1 + np.random.normal(0, noise, (n_samples, 1))\n",
        "\n",
        "    # Add some non-linear noise\n",
        "    y += 0.5 * np.sin(X) + 0.4 * np.random.randn(n_samples, 1) * X\n",
        "\n",
        "    return X, y\n",
        "\n",
        "X, y = generate_data()\n",
        "\n",
        "plt.scatter(X, y)\n",
        "plt.title('Synthetic Data for Linear Regression')\n",
        "plt.xlabel('X')\n",
        "plt.ylabel('y')\n",
        "plt.show()"
      ]
    },
    {
      "cell_type": "markdown",
      "metadata": {
        "id": "R08ndQOTMOTf"
      },
      "source": [
        "### Task 1.1 Compute the cost function for linear regression.\n",
        "Hint - Use MSE. Please try to implement MSE by yourself rather than importing from libraries."
      ]
    },
    {
      "cell_type": "code",
      "execution_count": null,
      "metadata": {
        "id": "dv8OQiD3MOTf"
      },
      "outputs": [],
      "source": [
        "def compute_cost(X, y, w, b):\n",
        "    \"\"\"\n",
        "    Compute the cost function for linear regression.\n",
        "\n",
        "    Args:\n",
        "    X (numpy.ndarray): Input features\n",
        "    y (numpy.ndarray): Target values\n",
        "    w (float): Weight\n",
        "    b (float): Bias\n",
        "\n",
        "    Returns:\n",
        "    float: Cost\n",
        "    \"\"\"\n",
        "    # TODO: Implement the cost function\n",
        "    # Hint: Use Mean Squared Error (MSE)\n",
        "    pass\n",
        "\n"
      ]
    },
    {
      "cell_type": "markdown",
      "metadata": {
        "id": "bGgHLotuMOTf"
      },
      "source": [
        "### Task 1.2 Implement Gradient Computation"
      ]
    },
    {
      "cell_type": "code",
      "execution_count": null,
      "metadata": {
        "id": "kFSKK0kQMOTg"
      },
      "outputs": [],
      "source": [
        "def compute_gradient(X, y, w, b):\n",
        "    \"\"\"\n",
        "    Compute the gradient of the cost function.\n",
        "\n",
        "    Args:\n",
        "    X (numpy.ndarray): Input features\n",
        "    y (numpy.ndarray): Target values\n",
        "    w (float): Weight\n",
        "    b (float): Bias\n",
        "\n",
        "    Returns:\n",
        "    tuple: (dw, db) - gradients of w and b\n",
        "    \"\"\"\n",
        "    # TODO: Implement the gradient computation\n",
        "    # Hint: Compute partial derivatives of the cost function with respect to w and b\n",
        "    pass"
      ]
    },
    {
      "cell_type": "markdown",
      "metadata": {
        "id": "_l0SZi-xMOTg"
      },
      "source": [
        "### Task 1.3 Implement gradient descent\n",
        "\n",
        "TODO: Implement the cost function for linear regression  \n",
        "TODO: Implement the gradient of the cost function  \n",
        "TODO: Implement the gradient descent algorithm\n"
      ]
    },
    {
      "cell_type": "code",
      "execution_count": null,
      "metadata": {
        "id": "WeadKZn-MOTg"
      },
      "outputs": [],
      "source": [
        "def gradient_descent(X, y, learning_rate=0.01, n_iterations=10):\n",
        "    \"\"\"\n",
        "    Perform gradient descent for linear regression.\n",
        "\n",
        "    Args:\n",
        "    X (numpy.ndarray): Input features\n",
        "    y (numpy.ndarray): Target values\n",
        "    learning_rate (float): Learning rate for gradient descent\n",
        "    n_iterations (int): Number of iterations\n",
        "\n",
        "    Returns:\n",
        "    tuple: Final weights (w, b) and list of costs\n",
        "    \"\"\"\n",
        "    w, b = 0, 0\n",
        "    costs = []\n",
        "\n",
        "    for i in range(n_iterations):\n",
        "    # TODO: Implement the gradient descent algorithm\n",
        "    # Hint: Use the compute_cost and compute_gradient functions\n",
        "    # Write code below\n",
        "        cost=None #Change this\n",
        "        if i % 1 == 0:\n",
        "            print(f\"Iteration {i}: cost = {cost}\")\n",
        "    pass"
      ]
    },
    {
      "cell_type": "code",
      "execution_count": null,
      "metadata": {
        "id": "TVF_N6NfMOTh"
      },
      "outputs": [],
      "source": [
        "### 1.5 Visualize the Results\n",
        "\n",
        "w, b, costs = gradient_descent(X, y)\n",
        "\n",
        "plt.figure(figsize=(12, 5))\n",
        "plt.subplot(1, 2, 1)\n",
        "plt.scatter(X, y)\n",
        "plt.plot(X, w*X + b, color='red')\n",
        "plt.title('Linear Regression Result')\n",
        "plt.xlabel('X')\n",
        "plt.ylabel('y')\n",
        "\n",
        "plt.subplot(1, 2, 2)\n",
        "plt.plot(costs)\n",
        "plt.title('Cost vs. Iteration')\n",
        "plt.xlabel('Iteration')\n",
        "plt.ylabel('Cost')\n",
        "plt.show()\n",
        "\n",
        "print(f\"Final parameters: w = {w}, b = {b}\")\n"
      ]
    }
  ],
  "metadata": {
    "kernelspec": {
      "display_name": "Python 3",
      "language": "python",
      "name": "python3"
    },
    "language_info": {
      "codemirror_mode": {
        "name": "ipython",
        "version": 3
      },
      "file_extension": ".py",
      "mimetype": "text/x-python",
      "name": "python",
      "nbconvert_exporter": "python",
      "pygments_lexer": "ipython3",
      "version": "3.10.12"
    },
    "colab": {
      "provenance": [],
      "include_colab_link": true
    }
  },
  "nbformat": 4,
  "nbformat_minor": 0
}